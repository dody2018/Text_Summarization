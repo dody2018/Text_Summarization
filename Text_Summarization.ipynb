{
 "cells": [
  {
   "cell_type": "code",
   "execution_count": null,
   "id": "aa6df338",
   "metadata": {},
   "outputs": [],
   "source": [
    "import nltk\n",
    "from nltk.corpus import stopwords\n",
    "from nltk.stem import PorterStemmer\n",
    "from gensim.summarization import keywords\n",
    "import numpy as np\n",
    "from sklearn.metrics.pairwise import cosine_similarity\n",
    "import networkx as nx\n",
    "\n",
    "# Download packages (run only once)\n",
    "# nltk.download('punkt')\n",
    "# nltk.download('stopwords')\n",
    "\n",
    "# Preprocessing\n",
    "text = 'my name is ghada moataz'\n",
    "sentences = nltk.sent_tokenize(text)\n",
    "words = [nltk.word_tokenize(sentence) for sentence in sentences]\n",
    "stop_words = set(stopwords.words('english'))\n",
    "words_filtered = [[word for word in sentence if not word.lower() in stop_words] for sentence in words]\n",
    "porter = PorterStemmer()\n",
    "words_stemmed = [[porter.stem(word) for word in sentence] for sentence in words_filtered]\n",
    "\n",
    "# Sentence scoring with TextRank\n",
    "graph = nx.Graph()\n",
    "for i, sentence_i in enumerate(words_stemmed):\n",
    "    for j, sentence_j in enumerate(words_stemmed):\n",
    "        if i != j:\n",
    "            similarity = cosine_similarity([sentence_i], [sentence_j])[0][0]\n",
    "            if similarity > 0:\n",
    "                graph.add_edge(i, j, weight=similarity)\n",
    "scores = nx.pagerank(graph)\n",
    "\n",
    "# Extract the top N most important sentences\n",
    "num_sentences = 3\n",
    "top_sentences = sorted(((scores[i], s) for i, s in enumerate(sentences)), reverse=True)[:num_sentences]\n",
    "\n",
    "# Generate the summary\n",
    "summary = ' '.join([sentence for score, sentence in top_sentences])\n",
    "print(summary)"
   ]
  }
 ],
 "metadata": {
  "kernelspec": {
   "display_name": "Python 3 (ipykernel)",
   "language": "python",
   "name": "python3"
  },
  "language_info": {
   "codemirror_mode": {
    "name": "ipython",
    "version": 3
   },
   "file_extension": ".py",
   "mimetype": "text/x-python",
   "name": "python",
   "nbconvert_exporter": "python",
   "pygments_lexer": "ipython3",
   "version": "3.9.13"
  }
 },
 "nbformat": 4,
 "nbformat_minor": 5
}
